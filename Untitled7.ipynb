{
 "cells": [
  {
   "cell_type": "code",
   "execution_count": 148,
   "metadata": {},
   "outputs": [],
   "source": [
    "import numpy as np\n",
    "import pandas as pd\n",
    "n=100\n",
    "\n",
    "a=np.linspace(1,70,n)\n",
    "b=np.linspace(1,50,n)\n",
    "\n",
    "c=np.linspace(0.01,0.07,n)\n",
    "\n",
    "z=[]\n",
    "for A in a:\n",
    "    x=[]\n",
    "#     for B in b:\n",
    "#         y=[]\n",
    "    for C in c:\n",
    "        (C+1)*A*1e3/b\n",
    "        comm=A*1e3*0.0025\n",
    "        num_stck=A*1e3/B\n",
    "        gain=num_stck*B*C-comm\n",
    "        x.append(gain)\n",
    "    z.append(x)\n",
    "#z.append(x)\n",
    "        \n",
    "            "
   ]
  },
  {
   "cell_type": "code",
   "execution_count": 149,
   "metadata": {},
   "outputs": [
    {
     "data": {
      "text/plain": [
       "(100, 100)"
      ]
     },
     "execution_count": 149,
     "metadata": {},
     "output_type": "execute_result"
    }
   ],
   "source": [
    "len(z)\n",
    "Z.shape"
   ]
  },
  {
   "cell_type": "code",
   "execution_count": 150,
   "metadata": {},
   "outputs": [
    {
     "name": "stdout",
     "output_type": "stream",
     "text": [
      "for an investment of 4.48K at a stock price of 1.49, I profit 33.6 for a gain of +1.0 (commision is = $11.200000000000001)\n"
     ]
    },
    {
     "data": {
      "text/plain": [
       "33.6"
      ]
     },
     "execution_count": 150,
     "metadata": {},
     "output_type": "execute_result"
    }
   ],
   "source": [
    "Z=np.array(z)\n",
    "i=0\n",
    "\n",
    "i1=5\n",
    "\n",
    "i2=1\n",
    "\n",
    "A1=round(a[i1],2);B1=round(b[i2],2);C1=round(c[i],2)\n",
    "\n",
    "comm=A1*1e3*0.0025\n",
    "num_stck=A1*1e3/B1\n",
    "gain=round(num_stck*B1*C1-comm,2)\n",
    "\n",
    "\n",
    "print(f\"for an investment of {A1}K at a stock price of {B1}, I profit {gain} for a gain of +{C1*100} (commision is = ${comm})\")\n",
    "\n",
    "gain"
   ]
  },
  {
   "cell_type": "code",
   "execution_count": 151,
   "metadata": {},
   "outputs": [
    {
     "data": {
      "image/png": "[encoded data removed]",
      "text/plain": [
       "<Figure size 720x720 with 1 Axes>"
      ]
     },
     "metadata": {
      "needs_background": "light"
     },
     "output_type": "display_data"
    }
   ],
   "source": [
    "plt.figure(figsize=(10,10))\n",
    "for i in range(0,n,10):\n",
    "    plt.scatter(c,Z[i])\n",
    "\n"
   ]
  },
  {
   "cell_type": "code",
   "execution_count": 152,
   "metadata": {},
   "outputs": [
    {
     "name": "stdout",
     "output_type": "stream",
     "text": [
      "1.0\n",
      "7.969696969696971\n",
      "14.939393939393941\n",
      "21.90909090909091\n",
      "28.878787878787882\n",
      "35.84848484848485\n",
      "42.81818181818182\n",
      "49.78787878787879\n",
      "56.757575757575765\n",
      "63.727272727272734\n"
     ]
    }
   ],
   "source": [
    "for i in range(0,n,10):\n",
    "    print(a[i])"
   ]
  },
  {
   "cell_type": "code",
   "execution_count": 130,
   "metadata": {},
   "outputs": [
    {
     "data": {
      "text/plain": [
       "array([ 1.        ,  1.5959596 ,  2.19191919,  2.78787879,  3.38383838,\n",
       "        3.97979798,  4.57575758,  5.17171717,  5.76767677,  6.36363636,\n",
       "        6.95959596,  7.55555556,  8.15151515,  8.74747475,  9.34343434,\n",
       "        9.93939394, 10.53535354, 11.13131313, 11.72727273, 12.32323232,\n",
       "       12.91919192, 13.51515152, 14.11111111, 14.70707071, 15.3030303 ,\n",
       "       15.8989899 , 16.49494949, 17.09090909, 17.68686869, 18.28282828,\n",
       "       18.87878788, 19.47474747, 20.07070707, 20.66666667, 21.26262626,\n",
       "       21.85858586, 22.45454545, 23.05050505, 23.64646465, 24.24242424,\n",
       "       24.83838384, 25.43434343, 26.03030303, 26.62626263, 27.22222222,\n",
       "       27.81818182, 28.41414141, 29.01010101, 29.60606061, 30.2020202 ,\n",
       "       30.7979798 , 31.39393939, 31.98989899, 32.58585859, 33.18181818,\n",
       "       33.77777778, 34.37373737, 34.96969697, 35.56565657, 36.16161616,\n",
       "       36.75757576, 37.35353535, 37.94949495, 38.54545455, 39.14141414,\n",
       "       39.73737374, 40.33333333, 40.92929293, 41.52525253, 42.12121212,\n",
       "       42.71717172, 43.31313131, 43.90909091, 44.50505051, 45.1010101 ,\n",
       "       45.6969697 , 46.29292929, 46.88888889, 47.48484848, 48.08080808,\n",
       "       48.67676768, 49.27272727, 49.86868687, 50.46464646, 51.06060606,\n",
       "       51.65656566, 52.25252525, 52.84848485, 53.44444444, 54.04040404,\n",
       "       54.63636364, 55.23232323, 55.82828283, 56.42424242, 57.02020202,\n",
       "       57.61616162, 58.21212121, 58.80808081, 59.4040404 , 60.        ])"
      ]
     },
     "execution_count": 130,
     "metadata": {},
     "output_type": "execute_result"
    }
   ],
   "source": [
    "a"
   ]
  },
  {
   "cell_type": "code",
   "execution_count": 109,
   "metadata": {},
   "outputs": [
    {
     "data": {
      "text/plain": [
       "25.75"
      ]
     },
     "execution_count": 109,
     "metadata": {},
     "output_type": "execute_result"
    }
   ],
   "source": [
    "B1"
   ]
  },
  {
   "cell_type": "code",
   "execution_count": 111,
   "metadata": {},
   "outputs": [
    {
     "name": "stdout",
     "output_type": "stream",
     "text": [
      "for an investment of $1.0K at a stock price of $25.75, I profit $7.5 for a gain of +1.0% (commision is = $2.5)\n",
      "for an investment of $1.0K at a stock price of $25.75, I profit $7.5 for a gain of +1.0% (commision is = $2.5)\n",
      "for an investment of $1.0K at a stock price of $25.75, I profit $17.5 for a gain of +2.0% (commision is = $2.5)\n",
      "for an investment of $1.0K at a stock price of $25.75, I profit $17.5 for a gain of +2.0% (commision is = $2.5)\n",
      "for an investment of $1.0K at a stock price of $25.75, I profit $27.5 for a gain of +3.0% (commision is = $2.5)\n",
      "for an investment of $1.0K at a stock price of $25.75, I profit $27.5 for a gain of +3.0% (commision is = $2.5)\n",
      "for an investment of $1.0K at a stock price of $25.75, I profit $37.5 for a gain of +4.0% (commision is = $2.5)\n",
      "for an investment of $1.0K at a stock price of $25.75, I profit $37.5 for a gain of +4.0% (commision is = $2.5)\n",
      "for an investment of $1.0K at a stock price of $25.75, I profit $47.5 for a gain of +5.0% (commision is = $2.5)\n",
      "for an investment of $1.0K at a stock price of $25.75, I profit $47.5 for a gain of +5.0% (commision is = $2.5)\n",
      "for an investment of $1.0K at a stock price of $25.75, I profit $57.5 for a gain of +6.0% (commision is = $2.5)\n",
      "for an investment of $1.0K at a stock price of $25.75, I profit $57.5 for a gain of +6.0% (commision is = $2.5)\n",
      "for an investment of $1.0K at a stock price of $25.75, I profit $67.5 for a gain of +7.000000000000001% (commision is = $2.5)\n",
      "for an investment of $1.0K at a stock price of $25.75, I profit $67.5 for a gain of +7.000000000000001% (commision is = $2.5)\n",
      "for an investment of $1.0K at a stock price of $25.75, I profit $77.5 for a gain of +8.0% (commision is = $2.5)\n",
      "for an investment of $1.0K at a stock price of $25.75, I profit $77.5 for a gain of +8.0% (commision is = $2.5)\n",
      "for an investment of $1.0K at a stock price of $25.75, I profit $87.5 for a gain of +9.0% (commision is = $2.5)\n",
      "for an investment of $1.0K at a stock price of $25.75, I profit $87.5 for a gain of +9.0% (commision is = $2.5)\n",
      "for an investment of $1.0K at a stock price of $25.75, I profit $97.5 for a gain of +10.0% (commision is = $2.5)\n",
      "for an investment of $1.0K at a stock price of $25.75, I profit $97.5 for a gain of +10.0% (commision is = $2.5)\n",
      "for an investment of $1.0K at a stock price of $25.75, I profit $107.5 for a gain of +11.0% (commision is = $2.5)\n",
      "for an investment of $1.0K at a stock price of $25.75, I profit $107.5 for a gain of +11.0% (commision is = $2.5)\n",
      "for an investment of $1.0K at a stock price of $25.75, I profit $117.5 for a gain of +12.0% (commision is = $2.5)\n",
      "for an investment of $1.0K at a stock price of $25.75, I profit $117.5 for a gain of +12.0% (commision is = $2.5)\n",
      "for an investment of $1.0K at a stock price of $25.75, I profit $127.5 for a gain of +13.0% (commision is = $2.5)\n",
      "for an investment of $1.0K at a stock price of $25.75, I profit $127.5 for a gain of +13.0% (commision is = $2.5)\n",
      "for an investment of $1.0K at a stock price of $25.75, I profit $137.5 for a gain of +14.000000000000002% (commision is = $2.5)\n",
      "for an investment of $1.0K at a stock price of $25.75, I profit $137.5 for a gain of +14.000000000000002% (commision is = $2.5)\n",
      "for an investment of $1.0K at a stock price of $25.75, I profit $147.5 for a gain of +15.0% (commision is = $2.5)\n",
      "for an investment of $1.0K at a stock price of $25.75, I profit $147.5 for a gain of +15.0% (commision is = $2.5)\n",
      "for an investment of $1.0K at a stock price of $25.75, I profit $157.5 for a gain of +16.0% (commision is = $2.5)\n",
      "for an investment of $1.0K at a stock price of $25.75, I profit $157.5 for a gain of +16.0% (commision is = $2.5)\n",
      "for an investment of $1.0K at a stock price of $25.75, I profit $167.5 for a gain of +17.0% (commision is = $2.5)\n",
      "for an investment of $1.0K at a stock price of $25.75, I profit $167.5 for a gain of +17.0% (commision is = $2.5)\n",
      "for an investment of $1.0K at a stock price of $25.75, I profit $177.5 for a gain of +18.0% (commision is = $2.5)\n",
      "for an investment of $1.0K at a stock price of $25.75, I profit $177.5 for a gain of +18.0% (commision is = $2.5)\n",
      "for an investment of $1.0K at a stock price of $25.75, I profit $187.5 for a gain of +19.0% (commision is = $2.5)\n",
      "for an investment of $1.0K at a stock price of $25.75, I profit $187.5 for a gain of +19.0% (commision is = $2.5)\n",
      "for an investment of $1.0K at a stock price of $25.75, I profit $197.5 for a gain of +20.0% (commision is = $2.5)\n",
      "for an investment of $1.0K at a stock price of $25.75, I profit $197.5 for a gain of +20.0% (commision is = $2.5)\n",
      "for an investment of $1.0K at a stock price of $25.75, I profit $207.5 for a gain of +21.0% (commision is = $2.5)\n",
      "for an investment of $1.0K at a stock price of $25.75, I profit $207.5 for a gain of +21.0% (commision is = $2.5)\n",
      "for an investment of $1.0K at a stock price of $25.75, I profit $217.5 for a gain of +22.0% (commision is = $2.5)\n",
      "for an investment of $1.0K at a stock price of $25.75, I profit $217.5 for a gain of +22.0% (commision is = $2.5)\n",
      "for an investment of $1.0K at a stock price of $25.75, I profit $227.5 for a gain of +23.0% (commision is = $2.5)\n",
      "for an investment of $1.0K at a stock price of $25.75, I profit $227.5 for a gain of +23.0% (commision is = $2.5)\n",
      "for an investment of $1.0K at a stock price of $25.75, I profit $237.5 for a gain of +24.0% (commision is = $2.5)\n",
      "for an investment of $1.0K at a stock price of $25.75, I profit $237.5 for a gain of +24.0% (commision is = $2.5)\n",
      "for an investment of $1.0K at a stock price of $25.75, I profit $247.5 for a gain of +25.0% (commision is = $2.5)\n",
      "for an investment of $1.0K at a stock price of $25.75, I profit $247.5 for a gain of +25.0% (commision is = $2.5)\n",
      "for an investment of $1.0K at a stock price of $25.75, I profit $257.5 for a gain of +26.0% (commision is = $2.5)\n",
      "for an investment of $1.0K at a stock price of $25.75, I profit $257.5 for a gain of +26.0% (commision is = $2.5)\n",
      "for an investment of $1.0K at a stock price of $25.75, I profit $267.5 for a gain of +27.0% (commision is = $2.5)\n",
      "for an investment of $1.0K at a stock price of $25.75, I profit $267.5 for a gain of +27.0% (commision is = $2.5)\n",
      "for an investment of $1.0K at a stock price of $25.75, I profit $277.5 for a gain of +28.000000000000004% (commision is = $2.5)\n",
      "for an investment of $1.0K at a stock price of $25.75, I profit $277.5 for a gain of +28.000000000000004% (commision is = $2.5)\n",
      "for an investment of $1.0K at a stock price of $25.75, I profit $287.5 for a gain of +28.999999999999996% (commision is = $2.5)\n",
      "for an investment of $1.0K at a stock price of $25.75, I profit $287.5 for a gain of +28.999999999999996% (commision is = $2.5)\n",
      "for an investment of $1.0K at a stock price of $25.75, I profit $297.5 for a gain of +30.0% (commision is = $2.5)\n",
      "for an investment of $1.0K at a stock price of $25.75, I profit $297.5 for a gain of +30.0% (commision is = $2.5)\n",
      "for an investment of $1.0K at a stock price of $25.75, I profit $307.5 for a gain of +31.0% (commision is = $2.5)\n",
      "for an investment of $1.0K at a stock price of $25.75, I profit $307.5 for a gain of +31.0% (commision is = $2.5)\n",
      "for an investment of $1.0K at a stock price of $25.75, I profit $317.5 for a gain of +32.0% (commision is = $2.5)\n",
      "for an investment of $1.0K at a stock price of $25.75, I profit $317.5 for a gain of +32.0% (commision is = $2.5)\n",
      "for an investment of $1.0K at a stock price of $25.75, I profit $327.5 for a gain of +33.0% (commision is = $2.5)\n",
      "for an investment of $1.0K at a stock price of $25.75, I profit $327.5 for a gain of +33.0% (commision is = $2.5)\n",
      "for an investment of $1.0K at a stock price of $25.75, I profit $337.5 for a gain of +34.0% (commision is = $2.5)\n",
      "for an investment of $1.0K at a stock price of $25.75, I profit $337.5 for a gain of +34.0% (commision is = $2.5)\n",
      "for an investment of $1.0K at a stock price of $25.75, I profit $347.5 for a gain of +35.0% (commision is = $2.5)\n",
      "for an investment of $1.0K at a stock price of $25.75, I profit $347.5 for a gain of +35.0% (commision is = $2.5)\n",
      "for an investment of $1.0K at a stock price of $25.75, I profit $357.5 for a gain of +36.0% (commision is = $2.5)\n",
      "for an investment of $1.0K at a stock price of $25.75, I profit $357.5 for a gain of +36.0% (commision is = $2.5)\n",
      "for an investment of $1.0K at a stock price of $25.75, I profit $367.5 for a gain of +37.0% (commision is = $2.5)\n",
      "for an investment of $1.0K at a stock price of $25.75, I profit $367.5 for a gain of +37.0% (commision is = $2.5)\n",
      "for an investment of $1.0K at a stock price of $25.75, I profit $377.5 for a gain of +38.0% (commision is = $2.5)\n",
      "for an investment of $1.0K at a stock price of $25.75, I profit $377.5 for a gain of +38.0% (commision is = $2.5)\n",
      "for an investment of $1.0K at a stock price of $25.75, I profit $387.5 for a gain of +39.0% (commision is = $2.5)\n",
      "for an investment of $1.0K at a stock price of $25.75, I profit $387.5 for a gain of +39.0% (commision is = $2.5)\n",
      "for an investment of $1.0K at a stock price of $25.75, I profit $397.5 for a gain of +40.0% (commision is = $2.5)\n",
      "for an investment of $1.0K at a stock price of $25.75, I profit $397.5 for a gain of +40.0% (commision is = $2.5)\n",
      "for an investment of $1.0K at a stock price of $25.75, I profit $407.5 for a gain of +41.0% (commision is = $2.5)\n",
      "for an investment of $1.0K at a stock price of $25.75, I profit $407.5 for a gain of +41.0% (commision is = $2.5)\n",
      "for an investment of $1.0K at a stock price of $25.75, I profit $417.5 for a gain of +42.0% (commision is = $2.5)\n",
      "for an investment of $1.0K at a stock price of $25.75, I profit $417.5 for a gain of +42.0% (commision is = $2.5)\n",
      "for an investment of $1.0K at a stock price of $25.75, I profit $427.5 for a gain of +43.0% (commision is = $2.5)\n",
      "for an investment of $1.0K at a stock price of $25.75, I profit $427.5 for a gain of +43.0% (commision is = $2.5)\n",
      "for an investment of $1.0K at a stock price of $25.75, I profit $437.5 for a gain of +44.0% (commision is = $2.5)\n",
      "for an investment of $1.0K at a stock price of $25.75, I profit $437.5 for a gain of +44.0% (commision is = $2.5)\n",
      "for an investment of $1.0K at a stock price of $25.75, I profit $447.5 for a gain of +45.0% (commision is = $2.5)\n",
      "for an investment of $1.0K at a stock price of $25.75, I profit $447.5 for a gain of +45.0% (commision is = $2.5)\n",
      "for an investment of $1.0K at a stock price of $25.75, I profit $457.5 for a gain of +46.0% (commision is = $2.5)\n",
      "for an investment of $1.0K at a stock price of $25.75, I profit $457.5 for a gain of +46.0% (commision is = $2.5)\n",
      "for an investment of $1.0K at a stock price of $25.75, I profit $467.5 for a gain of +47.0% (commision is = $2.5)\n",
      "for an investment of $1.0K at a stock price of $25.75, I profit $467.5 for a gain of +47.0% (commision is = $2.5)\n",
      "for an investment of $1.0K at a stock price of $25.75, I profit $477.5 for a gain of +48.0% (commision is = $2.5)\n",
      "for an investment of $1.0K at a stock price of $25.75, I profit $477.5 for a gain of +48.0% (commision is = $2.5)\n",
      "for an investment of $1.0K at a stock price of $25.75, I profit $487.5 for a gain of +49.0% (commision is = $2.5)\n",
      "for an investment of $1.0K at a stock price of $25.75, I profit $487.5 for a gain of +49.0% (commision is = $2.5)\n",
      "for an investment of $1.0K at a stock price of $25.75, I profit $497.5 for a gain of +50.0% (commision is = $2.5)\n",
      "for an investment of $1.0K at a stock price of $25.75, I profit $497.5 for a gain of +50.0% (commision is = $2.5)\n"
     ]
    }
   ],
   "source": [
    "Z=np.array(z)\n",
    "i=0\n",
    "\n",
    "i1=0\n",
    "\n",
    "i2=50\n",
    "for i in range(n):\n",
    "    A1=round(a[i1],2);B1=round(b[i2],2);C1=round(c[i],2)\n",
    "    \n",
    "\n",
    "    comm=A1*1e3*0.0025\n",
    "    num_stck=A1*1e3/B1\n",
    "    gain=round(num_stck*B1*C1-comm,2)\n",
    "\n",
    "\n",
    "    print(f\"for an investment of ${A1}K at a stock price of ${B1}, I profit ${gain} for a gain of +{C1*100}% (commision is = ${comm})\")\n",
    "\n",
    "    gain"
   ]
  },
  {
   "cell_type": "code",
   "execution_count": null,
   "metadata": {},
   "outputs": [],
   "source": []
  },
  {
   "cell_type": "code",
   "execution_count": null,
   "metadata": {},
   "outputs": [],
   "source": []
  },
  {
   "cell_type": "code",
   "execution_count": 99,
   "metadata": {},
   "outputs": [
    {
     "data": {
      "text/plain": [
       "<matplotlib.collections.PathCollection at 0x131d2052668>"
      ]
     },
     "execution_count": 99,
     "metadata": {},
     "output_type": "execute_result"
    },
    {
     "data": {
      "image/png": "[encoded data removed]",
      "text/plain": [
       "<Figure size 432x288 with 1 Axes>"
      ]
     },
     "metadata": {
      "needs_background": "light"
     },
     "output_type": "display_data"
    }
   ],
   "source": [
    "plt.scatter(c,Z[1][0])\n",
    "plt.scatter(c,Z[2][0])\n",
    "plt.scatter(c,Z[3][0])\n",
    "plt.scatter(c,Z[4][0])"
   ]
  },
  {
   "cell_type": "code",
   "execution_count": 92,
   "metadata": {},
   "outputs": [
    {
     "data": {
      "text/plain": [
       "array([0.01      , 0.01494949, 0.01989899, 0.02484848, 0.02979798,\n",
       "       0.03474747, 0.03969697, 0.04464646, 0.04959596, 0.05454545,\n",
       "       0.05949495, 0.06444444, 0.06939394, 0.07434343, 0.07929293,\n",
       "       0.08424242, 0.08919192, 0.09414141, 0.09909091, 0.1040404 ,\n",
       "       0.1089899 , 0.11393939, 0.11888889, 0.12383838, 0.12878788,\n",
       "       0.13373737, 0.13868687, 0.14363636, 0.14858586, 0.15353535,\n",
       "       0.15848485, 0.16343434, 0.16838384, 0.17333333, 0.17828283,\n",
       "       0.18323232, 0.18818182, 0.19313131, 0.19808081, 0.2030303 ,\n",
       "       0.2079798 , 0.21292929, 0.21787879, 0.22282828, 0.22777778,\n",
       "       0.23272727, 0.23767677, 0.24262626, 0.24757576, 0.25252525,\n",
       "       0.25747475, 0.26242424, 0.26737374, 0.27232323, 0.27727273,\n",
       "       0.28222222, 0.28717172, 0.29212121, 0.29707071, 0.3020202 ,\n",
       "       0.3069697 , 0.31191919, 0.31686869, 0.32181818, 0.32676768,\n",
       "       0.33171717, 0.33666667, 0.34161616, 0.34656566, 0.35151515,\n",
       "       0.35646465, 0.36141414, 0.36636364, 0.37131313, 0.37626263,\n",
       "       0.38121212, 0.38616162, 0.39111111, 0.39606061, 0.4010101 ,\n",
       "       0.4059596 , 0.41090909, 0.41585859, 0.42080808, 0.42575758,\n",
       "       0.43070707, 0.43565657, 0.44060606, 0.44555556, 0.45050505,\n",
       "       0.45545455, 0.46040404, 0.46535354, 0.47030303, 0.47525253,\n",
       "       0.48020202, 0.48515152, 0.49010101, 0.49505051, 0.5       ])"
      ]
     },
     "execution_count": 92,
     "metadata": {},
     "output_type": "execute_result"
    }
   ],
   "source": [
    "c"
   ]
  },
  {
   "cell_type": "code",
   "execution_count": 100,
   "metadata": {},
   "outputs": [
    {
     "data": {
      "text/plain": [
       "array([[ 11.96969697,  19.86889093,  27.76808489, ..., 778.19151107,\n",
       "        786.09070503, 793.98989899],\n",
       "       [ 11.96969697,  19.86889093,  27.76808489, ..., 778.19151107,\n",
       "        786.09070503, 793.98989899],\n",
       "       [ 11.96969697,  19.86889093,  27.76808489, ..., 778.19151107,\n",
       "        786.09070503, 793.98989899],\n",
       "       ...,\n",
       "       [ 11.96969697,  19.86889093,  27.76808489, ..., 778.19151107,\n",
       "        786.09070503, 793.98989899],\n",
       "       [ 11.96969697,  19.86889093,  27.76808489, ..., 778.19151107,\n",
       "        786.09070503, 793.98989899],\n",
       "       [ 11.96969697,  19.86889093,  27.76808489, ..., 778.19151107,\n",
       "        786.09070503, 793.98989899]])"
      ]
     },
     "execution_count": 100,
     "metadata": {},
     "output_type": "execute_result"
    }
   ],
   "source": [
    "Z[1]"
   ]
  },
  {
   "cell_type": "code",
   "execution_count": null,
   "metadata": {},
   "outputs": [],
   "source": []
  },
  {
   "cell_type": "code",
   "execution_count": null,
   "metadata": {},
   "outputs": [],
   "source": []
  },
  {
   "cell_type": "code",
   "execution_count": null,
   "metadata": {},
   "outputs": [],
   "source": []
  },
  {
   "cell_type": "code",
   "execution_count": 8,
   "metadata": {},
   "outputs": [
    {
     "data": {
      "text/plain": [
       "(10, 10, 10)"
      ]
     },
     "execution_count": 8,
     "metadata": {},
     "output_type": "execute_result"
    }
   ],
   "source": [
    "np.array(z).shape"
   ]
  },
  {
   "cell_type": "code",
   "execution_count": 26,
   "metadata": {},
   "outputs": [
    {
     "name": "stdout",
     "output_type": "stream",
     "text": [
      "[ 1.          7.55555556 14.11111111 20.66666667 27.22222222 33.77777778\n",
      " 40.33333333 46.88888889 53.44444444 60.        ]\n",
      "[ 1.          6.44444444 11.88888889 17.33333333 22.77777778 28.22222222\n",
      " 33.66666667 39.11111111 44.55555556 50.        ]\n",
      "[0.01       0.01444444 0.01888889 0.02333333 0.02777778 0.03222222\n",
      " 0.03666667 0.04111111 0.04555556 0.05      ]\n"
     ]
    }
   ],
   "source": [
    "print(a)\n",
    "print(b)\n",
    "print(c)"
   ]
  },
  {
   "cell_type": "code",
   "execution_count": 27,
   "metadata": {},
   "outputs": [
    {
     "data": {
      "text/plain": [
       "2850.0"
      ]
     },
     "execution_count": 27,
     "metadata": {},
     "output_type": "execute_result"
    }
   ],
   "source": [
    "gain"
   ]
  },
  {
   "cell_type": "code",
   "execution_count": 9,
   "metadata": {},
   "outputs": [
    {
     "data": {
      "text/plain": [
       "(10,)"
      ]
     },
     "execution_count": 9,
     "metadata": {},
     "output_type": "execute_result"
    }
   ],
   "source": [
    "np.array(y).shape"
   ]
  },
  {
   "cell_type": "code",
   "execution_count": 12,
   "metadata": {},
   "outputs": [
    {
     "data": {
      "text/plain": [
       "array([[[   7.5       ,   11.94444444,   16.38888889,   20.83333333,\n",
       "           25.27777778,   29.72222222,   34.16666667,   38.61111111,\n",
       "           43.05555556,   47.5       ],\n",
       "        [   7.5       ,   11.94444444,   16.38888889,   20.83333333,\n",
       "           25.27777778,   29.72222222,   34.16666667,   38.61111111,\n",
       "           43.05555556,   47.5       ],\n",
       "        [   7.5       ,   11.94444444,   16.38888889,   20.83333333,\n",
       "           25.27777778,   29.72222222,   34.16666667,   38.61111111,\n",
       "           43.05555556,   47.5       ],\n",
       "        [   7.5       ,   11.94444444,   16.38888889,   20.83333333,\n",
       "           25.27777778,   29.72222222,   34.16666667,   38.61111111,\n",
       "           43.05555556,   47.5       ],\n",
       "        [   7.5       ,   11.94444444,   16.38888889,   20.83333333,\n",
       "           25.27777778,   29.72222222,   34.16666667,   38.61111111,\n",
       "           43.05555556,   47.5       ],\n",
       "        [   7.5       ,   11.94444444,   16.38888889,   20.83333333,\n",
       "           25.27777778,   29.72222222,   34.16666667,   38.61111111,\n",
       "           43.05555556,   47.5       ],\n",
       "        [   7.5       ,   11.94444444,   16.38888889,   20.83333333,\n",
       "           25.27777778,   29.72222222,   34.16666667,   38.61111111,\n",
       "           43.05555556,   47.5       ],\n",
       "        [   7.5       ,   11.94444444,   16.38888889,   20.83333333,\n",
       "           25.27777778,   29.72222222,   34.16666667,   38.61111111,\n",
       "           43.05555556,   47.5       ],\n",
       "        [   7.5       ,   11.94444444,   16.38888889,   20.83333333,\n",
       "           25.27777778,   29.72222222,   34.16666667,   38.61111111,\n",
       "           43.05555556,   47.5       ],\n",
       "        [   7.5       ,   11.94444444,   16.38888889,   20.83333333,\n",
       "           25.27777778,   29.72222222,   34.16666667,   38.61111111,\n",
       "           43.05555556,   47.5       ]],\n",
       "\n",
       "       [[  56.66666667,   90.24691358,  123.82716049,  157.40740741,\n",
       "          190.98765432,  224.56790123,  258.14814815,  291.72839506,\n",
       "          325.30864198,  358.88888889],\n",
       "        [  56.66666667,   90.24691358,  123.82716049,  157.40740741,\n",
       "          190.98765432,  224.56790123,  258.14814815,  291.72839506,\n",
       "          325.30864198,  358.88888889],\n",
       "        [  56.66666667,   90.24691358,  123.82716049,  157.40740741,\n",
       "          190.98765432,  224.56790123,  258.14814815,  291.72839506,\n",
       "          325.30864198,  358.88888889],\n",
       "        [  56.66666667,   90.24691358,  123.82716049,  157.40740741,\n",
       "          190.98765432,  224.56790123,  258.14814815,  291.72839506,\n",
       "          325.30864198,  358.88888889],\n",
       "        [  56.66666667,   90.24691358,  123.82716049,  157.40740741,\n",
       "          190.98765432,  224.56790123,  258.14814815,  291.72839506,\n",
       "          325.30864198,  358.88888889],\n",
       "        [  56.66666667,   90.24691358,  123.82716049,  157.40740741,\n",
       "          190.98765432,  224.56790123,  258.14814815,  291.72839506,\n",
       "          325.30864198,  358.88888889],\n",
       "        [  56.66666667,   90.24691358,  123.82716049,  157.40740741,\n",
       "          190.98765432,  224.56790123,  258.14814815,  291.72839506,\n",
       "          325.30864198,  358.88888889],\n",
       "        [  56.66666667,   90.24691358,  123.82716049,  157.40740741,\n",
       "          190.98765432,  224.56790123,  258.14814815,  291.72839506,\n",
       "          325.30864198,  358.88888889],\n",
       "        [  56.66666667,   90.24691358,  123.82716049,  157.40740741,\n",
       "          190.98765432,  224.56790123,  258.14814815,  291.72839506,\n",
       "          325.30864198,  358.88888889],\n",
       "        [  56.66666667,   90.24691358,  123.82716049,  157.40740741,\n",
       "          190.98765432,  224.56790123,  258.14814815,  291.72839506,\n",
       "          325.30864198,  358.88888889]],\n",
       "\n",
       "       [[ 105.83333333,  168.54938272,  231.2654321 ,  293.98148148,\n",
       "          356.69753086,  419.41358025,  482.12962963,  544.84567901,\n",
       "          607.5617284 ,  670.27777778],\n",
       "        [ 105.83333333,  168.54938272,  231.2654321 ,  293.98148148,\n",
       "          356.69753086,  419.41358025,  482.12962963,  544.84567901,\n",
       "          607.5617284 ,  670.27777778],\n",
       "        [ 105.83333333,  168.54938272,  231.2654321 ,  293.98148148,\n",
       "          356.69753086,  419.41358025,  482.12962963,  544.84567901,\n",
       "          607.5617284 ,  670.27777778],\n",
       "        [ 105.83333333,  168.54938272,  231.2654321 ,  293.98148148,\n",
       "          356.69753086,  419.41358025,  482.12962963,  544.84567901,\n",
       "          607.5617284 ,  670.27777778],\n",
       "        [ 105.83333333,  168.54938272,  231.2654321 ,  293.98148148,\n",
       "          356.69753086,  419.41358025,  482.12962963,  544.84567901,\n",
       "          607.5617284 ,  670.27777778],\n",
       "        [ 105.83333333,  168.54938272,  231.2654321 ,  293.98148148,\n",
       "          356.69753086,  419.41358025,  482.12962963,  544.84567901,\n",
       "          607.5617284 ,  670.27777778],\n",
       "        [ 105.83333333,  168.54938272,  231.2654321 ,  293.98148148,\n",
       "          356.69753086,  419.41358025,  482.12962963,  544.84567901,\n",
       "          607.5617284 ,  670.27777778],\n",
       "        [ 105.83333333,  168.54938272,  231.2654321 ,  293.98148148,\n",
       "          356.69753086,  419.41358025,  482.12962963,  544.84567901,\n",
       "          607.5617284 ,  670.27777778],\n",
       "        [ 105.83333333,  168.54938272,  231.2654321 ,  293.98148148,\n",
       "          356.69753086,  419.41358025,  482.12962963,  544.84567901,\n",
       "          607.5617284 ,  670.27777778],\n",
       "        [ 105.83333333,  168.54938272,  231.2654321 ,  293.98148148,\n",
       "          356.69753086,  419.41358025,  482.12962963,  544.84567901,\n",
       "          607.5617284 ,  670.27777778]],\n",
       "\n",
       "       [[ 155.        ,  246.85185185,  338.7037037 ,  430.55555556,\n",
       "          522.40740741,  614.25925926,  706.11111111,  797.96296296,\n",
       "          889.81481481,  981.66666667],\n",
       "        [ 155.        ,  246.85185185,  338.7037037 ,  430.55555556,\n",
       "          522.40740741,  614.25925926,  706.11111111,  797.96296296,\n",
       "          889.81481481,  981.66666667],\n",
       "        [ 155.        ,  246.85185185,  338.7037037 ,  430.55555556,\n",
       "          522.40740741,  614.25925926,  706.11111111,  797.96296296,\n",
       "          889.81481481,  981.66666667],\n",
       "        [ 155.        ,  246.85185185,  338.7037037 ,  430.55555556,\n",
       "          522.40740741,  614.25925926,  706.11111111,  797.96296296,\n",
       "          889.81481481,  981.66666667],\n",
       "        [ 155.        ,  246.85185185,  338.7037037 ,  430.55555556,\n",
       "          522.40740741,  614.25925926,  706.11111111,  797.96296296,\n",
       "          889.81481481,  981.66666667],\n",
       "        [ 155.        ,  246.85185185,  338.7037037 ,  430.55555556,\n",
       "          522.40740741,  614.25925926,  706.11111111,  797.96296296,\n",
       "          889.81481481,  981.66666667],\n",
       "        [ 155.        ,  246.85185185,  338.7037037 ,  430.55555556,\n",
       "          522.40740741,  614.25925926,  706.11111111,  797.96296296,\n",
       "          889.81481481,  981.66666667],\n",
       "        [ 155.        ,  246.85185185,  338.7037037 ,  430.55555556,\n",
       "          522.40740741,  614.25925926,  706.11111111,  797.96296296,\n",
       "          889.81481481,  981.66666667],\n",
       "        [ 155.        ,  246.85185185,  338.7037037 ,  430.55555556,\n",
       "          522.40740741,  614.25925926,  706.11111111,  797.96296296,\n",
       "          889.81481481,  981.66666667],\n",
       "        [ 155.        ,  246.85185185,  338.7037037 ,  430.55555556,\n",
       "          522.40740741,  614.25925926,  706.11111111,  797.96296296,\n",
       "          889.81481481,  981.66666667]],\n",
       "\n",
       "       [[ 204.16666667,  325.15432099,  446.14197531,  567.12962963,\n",
       "          688.11728395,  809.10493827,  930.09259259, 1051.08024691,\n",
       "         1172.06790123, 1293.05555556],\n",
       "        [ 204.16666667,  325.15432099,  446.14197531,  567.12962963,\n",
       "          688.11728395,  809.10493827,  930.09259259, 1051.08024691,\n",
       "         1172.06790123, 1293.05555556],\n",
       "        [ 204.16666667,  325.15432099,  446.14197531,  567.12962963,\n",
       "          688.11728395,  809.10493827,  930.09259259, 1051.08024691,\n",
       "         1172.06790123, 1293.05555556],\n",
       "        [ 204.16666667,  325.15432099,  446.14197531,  567.12962963,\n",
       "          688.11728395,  809.10493827,  930.09259259, 1051.08024691,\n",
       "         1172.06790123, 1293.05555556],\n",
       "        [ 204.16666667,  325.15432099,  446.14197531,  567.12962963,\n",
       "          688.11728395,  809.10493827,  930.09259259, 1051.08024691,\n",
       "         1172.06790123, 1293.05555556],\n",
       "        [ 204.16666667,  325.15432099,  446.14197531,  567.12962963,\n",
       "          688.11728395,  809.10493827,  930.09259259, 1051.08024691,\n",
       "         1172.06790123, 1293.05555556],\n",
       "        [ 204.16666667,  325.15432099,  446.14197531,  567.12962963,\n",
       "          688.11728395,  809.10493827,  930.09259259, 1051.08024691,\n",
       "         1172.06790123, 1293.05555556],\n",
       "        [ 204.16666667,  325.15432099,  446.14197531,  567.12962963,\n",
       "          688.11728395,  809.10493827,  930.09259259, 1051.08024691,\n",
       "         1172.06790123, 1293.05555556],\n",
       "        [ 204.16666667,  325.15432099,  446.14197531,  567.12962963,\n",
       "          688.11728395,  809.10493827,  930.09259259, 1051.08024691,\n",
       "         1172.06790123, 1293.05555556],\n",
       "        [ 204.16666667,  325.15432099,  446.14197531,  567.12962963,\n",
       "          688.11728395,  809.10493827,  930.09259259, 1051.08024691,\n",
       "         1172.06790123, 1293.05555556]],\n",
       "\n",
       "       [[ 253.33333333,  403.45679012,  553.58024691,  703.7037037 ,\n",
       "          853.82716049, 1003.95061728, 1154.07407407, 1304.19753086,\n",
       "         1454.32098765, 1604.44444444],\n",
       "        [ 253.33333333,  403.45679012,  553.58024691,  703.7037037 ,\n",
       "          853.82716049, 1003.95061728, 1154.07407407, 1304.19753086,\n",
       "         1454.32098765, 1604.44444444],\n",
       "        [ 253.33333333,  403.45679012,  553.58024691,  703.7037037 ,\n",
       "          853.82716049, 1003.95061728, 1154.07407407, 1304.19753086,\n",
       "         1454.32098765, 1604.44444444],\n",
       "        [ 253.33333333,  403.45679012,  553.58024691,  703.7037037 ,\n",
       "          853.82716049, 1003.95061728, 1154.07407407, 1304.19753086,\n",
       "         1454.32098765, 1604.44444444],\n",
       "        [ 253.33333333,  403.45679012,  553.58024691,  703.7037037 ,\n",
       "          853.82716049, 1003.95061728, 1154.07407407, 1304.19753086,\n",
       "         1454.32098765, 1604.44444444],\n",
       "        [ 253.33333333,  403.45679012,  553.58024691,  703.7037037 ,\n",
       "          853.82716049, 1003.95061728, 1154.07407407, 1304.19753086,\n",
       "         1454.32098765, 1604.44444444],\n",
       "        [ 253.33333333,  403.45679012,  553.58024691,  703.7037037 ,\n",
       "          853.82716049, 1003.95061728, 1154.07407407, 1304.19753086,\n",
       "         1454.32098765, 1604.44444444],\n",
       "        [ 253.33333333,  403.45679012,  553.58024691,  703.7037037 ,\n",
       "          853.82716049, 1003.95061728, 1154.07407407, 1304.19753086,\n",
       "         1454.32098765, 1604.44444444],\n",
       "        [ 253.33333333,  403.45679012,  553.58024691,  703.7037037 ,\n",
       "          853.82716049, 1003.95061728, 1154.07407407, 1304.19753086,\n",
       "         1454.32098765, 1604.44444444],\n",
       "        [ 253.33333333,  403.45679012,  553.58024691,  703.7037037 ,\n",
       "          853.82716049, 1003.95061728, 1154.07407407, 1304.19753086,\n",
       "         1454.32098765, 1604.44444444]],\n",
       "\n",
       "       [[ 302.5       ,  481.75925926,  661.01851852,  840.27777778,\n",
       "         1019.53703704, 1198.7962963 , 1378.05555556, 1557.31481481,\n",
       "         1736.57407407, 1915.83333333],\n",
       "        [ 302.5       ,  481.75925926,  661.01851852,  840.27777778,\n",
       "         1019.53703704, 1198.7962963 , 1378.05555556, 1557.31481481,\n",
       "         1736.57407407, 1915.83333333],\n",
       "        [ 302.5       ,  481.75925926,  661.01851852,  840.27777778,\n",
       "         1019.53703704, 1198.7962963 , 1378.05555556, 1557.31481481,\n",
       "         1736.57407407, 1915.83333333],\n",
       "        [ 302.5       ,  481.75925926,  661.01851852,  840.27777778,\n",
       "         1019.53703704, 1198.7962963 , 1378.05555556, 1557.31481481,\n",
       "         1736.57407407, 1915.83333333],\n",
       "        [ 302.5       ,  481.75925926,  661.01851852,  840.27777778,\n",
       "         1019.53703704, 1198.7962963 , 1378.05555556, 1557.31481481,\n",
       "         1736.57407407, 1915.83333333],\n",
       "        [ 302.5       ,  481.75925926,  661.01851852,  840.27777778,\n",
       "         1019.53703704, 1198.7962963 , 1378.05555556, 1557.31481481,\n",
       "         1736.57407407, 1915.83333333],\n",
       "        [ 302.5       ,  481.75925926,  661.01851852,  840.27777778,\n",
       "         1019.53703704, 1198.7962963 , 1378.05555556, 1557.31481481,\n",
       "         1736.57407407, 1915.83333333],\n",
       "        [ 302.5       ,  481.75925926,  661.01851852,  840.27777778,\n",
       "         1019.53703704, 1198.7962963 , 1378.05555556, 1557.31481481,\n",
       "         1736.57407407, 1915.83333333],\n",
       "        [ 302.5       ,  481.75925926,  661.01851852,  840.27777778,\n",
       "         1019.53703704, 1198.7962963 , 1378.05555556, 1557.31481481,\n",
       "         1736.57407407, 1915.83333333],\n",
       "        [ 302.5       ,  481.75925926,  661.01851852,  840.27777778,\n",
       "         1019.53703704, 1198.7962963 , 1378.05555556, 1557.31481481,\n",
       "         1736.57407407, 1915.83333333]],\n",
       "\n",
       "       [[ 351.66666667,  560.0617284 ,  768.45679012,  976.85185185,\n",
       "         1185.24691358, 1393.64197531, 1602.03703704, 1810.43209877,\n",
       "         2018.82716049, 2227.22222222],\n",
       "        [ 351.66666667,  560.0617284 ,  768.45679012,  976.85185185,\n",
       "         1185.24691358, 1393.64197531, 1602.03703704, 1810.43209877,\n",
       "         2018.82716049, 2227.22222222],\n",
       "        [ 351.66666667,  560.0617284 ,  768.45679012,  976.85185185,\n",
       "         1185.24691358, 1393.64197531, 1602.03703704, 1810.43209877,\n",
       "         2018.82716049, 2227.22222222],\n",
       "        [ 351.66666667,  560.0617284 ,  768.45679012,  976.85185185,\n",
       "         1185.24691358, 1393.64197531, 1602.03703704, 1810.43209877,\n",
       "         2018.82716049, 2227.22222222],\n",
       "        [ 351.66666667,  560.0617284 ,  768.45679012,  976.85185185,\n",
       "         1185.24691358, 1393.64197531, 1602.03703704, 1810.43209877,\n",
       "         2018.82716049, 2227.22222222],\n",
       "        [ 351.66666667,  560.0617284 ,  768.45679012,  976.85185185,\n",
       "         1185.24691358, 1393.64197531, 1602.03703704, 1810.43209877,\n",
       "         2018.82716049, 2227.22222222],\n",
       "        [ 351.66666667,  560.0617284 ,  768.45679012,  976.85185185,\n",
       "         1185.24691358, 1393.64197531, 1602.03703704, 1810.43209877,\n",
       "         2018.82716049, 2227.22222222],\n",
       "        [ 351.66666667,  560.0617284 ,  768.45679012,  976.85185185,\n",
       "         1185.24691358, 1393.64197531, 1602.03703704, 1810.43209877,\n",
       "         2018.82716049, 2227.22222222],\n",
       "        [ 351.66666667,  560.0617284 ,  768.45679012,  976.85185185,\n",
       "         1185.24691358, 1393.64197531, 1602.03703704, 1810.43209877,\n",
       "         2018.82716049, 2227.22222222],\n",
       "        [ 351.66666667,  560.0617284 ,  768.45679012,  976.85185185,\n",
       "         1185.24691358, 1393.64197531, 1602.03703704, 1810.43209877,\n",
       "         2018.82716049, 2227.22222222]],\n",
       "\n",
       "       [[ 400.83333333,  638.36419753,  875.89506173, 1113.42592593,\n",
       "         1350.95679012, 1588.48765432, 1826.01851852, 2063.54938272,\n",
       "         2301.08024691, 2538.61111111],\n",
       "        [ 400.83333333,  638.36419753,  875.89506173, 1113.42592593,\n",
       "         1350.95679012, 1588.48765432, 1826.01851852, 2063.54938272,\n",
       "         2301.08024691, 2538.61111111],\n",
       "        [ 400.83333333,  638.36419753,  875.89506173, 1113.42592593,\n",
       "         1350.95679012, 1588.48765432, 1826.01851852, 2063.54938272,\n",
       "         2301.08024691, 2538.61111111],\n",
       "        [ 400.83333333,  638.36419753,  875.89506173, 1113.42592593,\n",
       "         1350.95679012, 1588.48765432, 1826.01851852, 2063.54938272,\n",
       "         2301.08024691, 2538.61111111],\n",
       "        [ 400.83333333,  638.36419753,  875.89506173, 1113.42592593,\n",
       "         1350.95679012, 1588.48765432, 1826.01851852, 2063.54938272,\n",
       "         2301.08024691, 2538.61111111],\n",
       "        [ 400.83333333,  638.36419753,  875.89506173, 1113.42592593,\n",
       "         1350.95679012, 1588.48765432, 1826.01851852, 2063.54938272,\n",
       "         2301.08024691, 2538.61111111],\n",
       "        [ 400.83333333,  638.36419753,  875.89506173, 1113.42592593,\n",
       "         1350.95679012, 1588.48765432, 1826.01851852, 2063.54938272,\n",
       "         2301.08024691, 2538.61111111],\n",
       "        [ 400.83333333,  638.36419753,  875.89506173, 1113.42592593,\n",
       "         1350.95679012, 1588.48765432, 1826.01851852, 2063.54938272,\n",
       "         2301.08024691, 2538.61111111],\n",
       "        [ 400.83333333,  638.36419753,  875.89506173, 1113.42592593,\n",
       "         1350.95679012, 1588.48765432, 1826.01851852, 2063.54938272,\n",
       "         2301.08024691, 2538.61111111],\n",
       "        [ 400.83333333,  638.36419753,  875.89506173, 1113.42592593,\n",
       "         1350.95679012, 1588.48765432, 1826.01851852, 2063.54938272,\n",
       "         2301.08024691, 2538.61111111]],\n",
       "\n",
       "       [[ 450.        ,  716.66666667,  983.33333333, 1250.        ,\n",
       "         1516.66666667, 1783.33333333, 2050.        , 2316.66666667,\n",
       "         2583.33333333, 2850.        ],\n",
       "        [ 450.        ,  716.66666667,  983.33333333, 1250.        ,\n",
       "         1516.66666667, 1783.33333333, 2050.        , 2316.66666667,\n",
       "         2583.33333333, 2850.        ],\n",
       "        [ 450.        ,  716.66666667,  983.33333333, 1250.        ,\n",
       "         1516.66666667, 1783.33333333, 2050.        , 2316.66666667,\n",
       "         2583.33333333, 2850.        ],\n",
       "        [ 450.        ,  716.66666667,  983.33333333, 1250.        ,\n",
       "         1516.66666667, 1783.33333333, 2050.        , 2316.66666667,\n",
       "         2583.33333333, 2850.        ],\n",
       "        [ 450.        ,  716.66666667,  983.33333333, 1250.        ,\n",
       "         1516.66666667, 1783.33333333, 2050.        , 2316.66666667,\n",
       "         2583.33333333, 2850.        ],\n",
       "        [ 450.        ,  716.66666667,  983.33333333, 1250.        ,\n",
       "         1516.66666667, 1783.33333333, 2050.        , 2316.66666667,\n",
       "         2583.33333333, 2850.        ],\n",
       "        [ 450.        ,  716.66666667,  983.33333333, 1250.        ,\n",
       "         1516.66666667, 1783.33333333, 2050.        , 2316.66666667,\n",
       "         2583.33333333, 2850.        ],\n",
       "        [ 450.        ,  716.66666667,  983.33333333, 1250.        ,\n",
       "         1516.66666667, 1783.33333333, 2050.        , 2316.66666667,\n",
       "         2583.33333333, 2850.        ],\n",
       "        [ 450.        ,  716.66666667,  983.33333333, 1250.        ,\n",
       "         1516.66666667, 1783.33333333, 2050.        , 2316.66666667,\n",
       "         2583.33333333, 2850.        ],\n",
       "        [ 450.        ,  716.66666667,  983.33333333, 1250.        ,\n",
       "         1516.66666667, 1783.33333333, 2050.        , 2316.66666667,\n",
       "         2583.33333333, 2850.        ]]])"
      ]
     },
     "execution_count": 12,
     "metadata": {},
     "output_type": "execute_result"
    }
   ],
   "source": [
    "\n",
    "\n",
    "np.array(z)"
   ]
  },
  {
   "cell_type": "code",
   "execution_count": 13,
   "metadata": {},
   "outputs": [],
   "source": [
    "from matplotlib.pyplot import imshow\n",
    "import matplotlib.pyplot as plt"
   ]
  },
  {
   "cell_type": "code",
   "execution_count": 15,
   "metadata": {},
   "outputs": [
    {
     "ename": "TypeError",
     "evalue": "scatter() missing 1 required positional argument: 'y'",
     "output_type": "error",
     "traceback": [
      "\u001b[1;31m---------------------------------------------------------------------------\u001b[0m",
      "\u001b[1;31mTypeError\u001b[0m                                 Traceback (most recent call last)",
      "\u001b[1;32m<ipython-input-15-b51e41867f39>\u001b[0m in \u001b[0;36m<module>\u001b[1;34m\u001b[0m\n\u001b[1;32m----> 1\u001b[1;33m \u001b[0mplt\u001b[0m\u001b[1;33m.\u001b[0m\u001b[0mscatter\u001b[0m\u001b[1;33m(\u001b[0m\u001b[0mnp\u001b[0m\u001b[1;33m.\u001b[0m\u001b[0marray\u001b[0m\u001b[1;33m(\u001b[0m\u001b[0mz\u001b[0m\u001b[1;33m)\u001b[0m\u001b[1;33m[\u001b[0m\u001b[1;33m:\u001b[0m\u001b[1;33m,\u001b[0m\u001b[1;33m:\u001b[0m\u001b[1;33m,\u001b[0m\u001b[1;36m0\u001b[0m\u001b[1;33m]\u001b[0m\u001b[1;33m)\u001b[0m\u001b[1;33m\u001b[0m\u001b[0m\n\u001b[0m",
      "\u001b[1;31mTypeError\u001b[0m: scatter() missing 1 required positional argument: 'y'"
     ]
    }
   ],
   "source": [
    "plt.scatter(np.array(z)[:,:,0])"
   ]
  },
  {
   "cell_type": "code",
   "execution_count": 20,
   "metadata": {},
   "outputs": [
    {
     "data": {
      "image/png": "[encoded data removed]",
      "text/plain": [
       "<Figure size 432x288 with 1 Axes>"
      ]
     },
     "metadata": {
      "needs_background": "light"
     },
     "output_type": "display_data"
    },
    {
     "data": {
      "image/png": "[encoded data removed]",
      "text/plain": [
       "<Figure size 432x288 with 1 Axes>"
      ]
     },
     "metadata": {
      "needs_background": "light"
     },
     "output_type": "display_data"
    },
    {
     "data": {
      "image/png": "[encoded data removed]",
      "text/plain": [
       "<Figure size 432x288 with 1 Axes>"
      ]
     },
     "metadata": {
      "needs_background": "light"
     },
     "output_type": "display_data"
    },
    {
     "data": {
      "image/png": "[encoded data removed]",
      "text/plain": [
       "<Figure size 432x288 with 1 Axes>"
      ]
     },
     "metadata": {
      "needs_background": "light"
     },
     "output_type": "display_data"
    },
    {
     "data": {
      "image/png": "[encoded data removed]",
      "text/plain": [
       "<Figure size 432x288 with 1 Axes>"
      ]
     },
     "metadata": {
      "needs_background": "light"
     },
     "output_type": "display_data"
    },
    {
     "data": {
      "image/png": "[encoded data removed]",
      "text/plain": [
       "<Figure size 432x288 with 1 Axes>"
      ]
     },
     "metadata": {
      "needs_background": "light"
     },
     "output_type": "display_data"
    },
    {
     "data": {
      "image/png": "[encoded data removed]",
      "text/plain": [
       "<Figure size 432x288 with 1 Axes>"
      ]
     },
     "metadata": {
      "needs_background": "light"
     },
     "output_type": "display_data"
    },
    {
     "data": {
      "image/png": "[encoded data removed]",
      "text/plain": [
       "<Figure size 432x288 with 1 Axes>"
      ]
     },
     "metadata": {
      "needs_background": "light"
     },
     "output_type": "display_data"
    },
    {
     "data": {
      "image/png": "[encoded data removed]",
      "text/plain": [
       "<Figure size 432x288 with 1 Axes>"
      ]
     },
     "metadata": {
      "needs_background": "light"
     },
     "output_type": "display_data"
    },
    {
     "data": {
      "image/png": "[encoded data removed]",
      "text/plain": [
       "<Figure size 432x288 with 1 Axes>"
      ]
     },
     "metadata": {
      "needs_background": "light"
     },
     "output_type": "display_data"
    }
   ],
   "source": [
    "for i in range(10):\n",
    "    imshow(np.array(z)[:,:,i])\n",
    "    plt.show()"
   ]
  },
  {
   "cell_type": "code",
   "execution_count": 22,
   "metadata": {},
   "outputs": [
    {
     "data": {
      "text/plain": [
       "array([[  7.5       ,   7.5       ,   7.5       ,   7.5       ,\n",
       "          7.5       ,   7.5       ,   7.5       ,   7.5       ,\n",
       "          7.5       ,   7.5       ],\n",
       "       [ 56.66666667,  56.66666667,  56.66666667,  56.66666667,\n",
       "         56.66666667,  56.66666667,  56.66666667,  56.66666667,\n",
       "         56.66666667,  56.66666667],\n",
       "       [105.83333333, 105.83333333, 105.83333333, 105.83333333,\n",
       "        105.83333333, 105.83333333, 105.83333333, 105.83333333,\n",
       "        105.83333333, 105.83333333],\n",
       "       [155.        , 155.        , 155.        , 155.        ,\n",
       "        155.        , 155.        , 155.        , 155.        ,\n",
       "        155.        , 155.        ],\n",
       "       [204.16666667, 204.16666667, 204.16666667, 204.16666667,\n",
       "        204.16666667, 204.16666667, 204.16666667, 204.16666667,\n",
       "        204.16666667, 204.16666667],\n",
       "       [253.33333333, 253.33333333, 253.33333333, 253.33333333,\n",
       "        253.33333333, 253.33333333, 253.33333333, 253.33333333,\n",
       "        253.33333333, 253.33333333],\n",
       "       [302.5       , 302.5       , 302.5       , 302.5       ,\n",
       "        302.5       , 302.5       , 302.5       , 302.5       ,\n",
       "        302.5       , 302.5       ],\n",
       "       [351.66666667, 351.66666667, 351.66666667, 351.66666667,\n",
       "        351.66666667, 351.66666667, 351.66666667, 351.66666667,\n",
       "        351.66666667, 351.66666667],\n",
       "       [400.83333333, 400.83333333, 400.83333333, 400.83333333,\n",
       "        400.83333333, 400.83333333, 400.83333333, 400.83333333,\n",
       "        400.83333333, 400.83333333],\n",
       "       [450.        , 450.        , 450.        , 450.        ,\n",
       "        450.        , 450.        , 450.        , 450.        ,\n",
       "        450.        , 450.        ]])"
      ]
     },
     "execution_count": 22,
     "metadata": {},
     "output_type": "execute_result"
    }
   ],
   "source": [
    "np.array(z)[:,:,0]"
   ]
  },
  {
   "cell_type": "code",
   "execution_count": 25,
   "metadata": {},
   "outputs": [
    {
     "ename": "AttributeError",
     "evalue": "module 'numpy' has no attribute 'scatter'",
     "output_type": "error",
     "traceback": [
      "\u001b[1;31m---------------------------------------------------------------------------\u001b[0m",
      "\u001b[1;31mAttributeError\u001b[0m                            Traceback (most recent call last)",
      "\u001b[1;32m<ipython-input-25-90e965127678>\u001b[0m in \u001b[0;36m<module>\u001b[1;34m\u001b[0m\n\u001b[1;32m----> 1\u001b[1;33m \u001b[0mnp\u001b[0m\u001b[1;33m.\u001b[0m\u001b[0mscatter\u001b[0m\u001b[1;33m(\u001b[0m\u001b[0mnp\u001b[0m\u001b[1;33m.\u001b[0m\u001b[0marray\u001b[0m\u001b[1;33m(\u001b[0m\u001b[0mz\u001b[0m\u001b[1;33m)\u001b[0m\u001b[1;33m[\u001b[0m\u001b[1;33m:\u001b[0m\u001b[1;33m,\u001b[0m\u001b[1;33m:\u001b[0m\u001b[1;33m,\u001b[0m\u001b[1;36m1\u001b[0m\u001b[1;33m]\u001b[0m\u001b[1;33m)\u001b[0m\u001b[1;33m\u001b[0m\u001b[0m\n\u001b[0m",
      "\u001b[1;32mc:\\users\\roy\\anaconda3\\envs\\tensorflow_2.x.2\\lib\\site-packages\\numpy\\__init__.py\u001b[0m in \u001b[0;36m__getattr__\u001b[1;34m(attr)\u001b[0m\n\u001b[0;32m    213\u001b[0m             \u001b[1;32melse\u001b[0m\u001b[1;33m:\u001b[0m\u001b[1;33m\u001b[0m\u001b[0m\n\u001b[0;32m    214\u001b[0m                 raise AttributeError(\"module {!r} has no attribute \"\n\u001b[1;32m--> 215\u001b[1;33m                                      \"{!r}\".format(__name__, attr))\n\u001b[0m\u001b[0;32m    216\u001b[0m \u001b[1;33m\u001b[0m\u001b[0m\n\u001b[0;32m    217\u001b[0m         \u001b[1;32mdef\u001b[0m \u001b[0m__dir__\u001b[0m\u001b[1;33m(\u001b[0m\u001b[1;33m)\u001b[0m\u001b[1;33m:\u001b[0m\u001b[1;33m\u001b[0m\u001b[0m\n",
      "\u001b[1;31mAttributeError\u001b[0m: module 'numpy' has no attribute 'scatter'"
     ]
    }
   ],
   "source": [
    "np.scatter(np.array(z)[:,:,1])"
   ]
  }
 ],
 "metadata": {
  "kernelspec": {
   "display_name": "Python 3",
   "language": "python",
   "name": "python3"
  },
  "language_info": {
   "codemirror_mode": {
    "name": "ipython",
    "version": 3
   },
   "file_extension": ".py",
   "mimetype": "text/x-python",
   "name": "python",
   "nbconvert_exporter": "python",
   "pygments_lexer": "ipython3",
   "version": "3.7.0"
  }
 },
 "nbformat": 4,
 "nbformat_minor": 4
}
